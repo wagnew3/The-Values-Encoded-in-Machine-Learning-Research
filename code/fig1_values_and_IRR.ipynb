{
 "cells": [
  {
   "cell_type": "markdown",
   "id": "9556e0f8-b269-434d-bae0-4a98ecaf4f3b",
   "metadata": {},
   "source": [
    "# Calculate IRR"
   ]
  },
  {
   "cell_type": "markdown",
   "id": "c1d903dc-6eab-46a3-a442-4bbcba191ab9",
   "metadata": {},
   "source": [
    "## Get filename"
   ]
  },
  {
   "cell_type": "code",
   "execution_count": 57,
   "id": "c94c1560-873e-488a-b01d-d3d7b900c168",
   "metadata": {},
   "outputs": [],
   "source": [
    "annotations_fn = '../data/annotations.tsv'"
   ]
  },
  {
   "cell_type": "markdown",
   "id": "d1b331a9-df0a-4853-b2d3-64d6b785e634",
   "metadata": {},
   "source": [
    "## Load and process annotations"
   ]
  },
  {
   "cell_type": "code",
   "execution_count": 58,
   "id": "3fd4c212-b479-4474-9cb9-23227595365c",
   "metadata": {},
   "outputs": [],
   "source": [
    "# Some values are delineated as important (related to ethical principles or user rights) based on prior literature, as discussed in main paper.\n",
    "important_values = [\n",
    "    'Interpretable (to users)',\n",
    "    'Beneficence',\n",
    "    'Deferral to humans',\n",
    "    'Privacy',\n",
    "    'User influence',\n",
    "    'Non-maleficence',\n",
    "    'Explicability',\n",
    "    'Respect for Law and public interest',\n",
    "    'Not socially biased',\n",
    "    'Fairness',\n",
    "    'Critiqability',\n",
    "    'Justice',\n",
    "    'Respect for Persons',\n",
    "    'Autonomy (power to decide)',\n",
    "    'Transparent (to users)',\n",
    "    'Collective influence'\n",
    "]\n",
    "\n",
    "# Value hierarchy. Some subvalues indicate an overarching value, as presented in paper Appendix C.\n",
    "value_to_subvalues = {\n",
    " 'Performance':           ['Accuracy', 'State-of-the-art'],\n",
    " 'Building on past work': ['Building on classic work', 'Building on recent work'],\n",
    " 'Generalization':        ['Avoiding train/test discrepancy', 'Flexibility/Extensibility'],\n",
    " 'Efficiency':            ['Data efficiency','Energy efficiency','Label efficiency (reduced need for labeled data)',\n",
    "                           'Low cost','Memory efficiency','Reduced training time', 'Fast'],\n",
    "}\n",
    "\n",
    "# Some columns were not useful for the below analysis so were deleted, for easier viewing and handling of the dataframes in this notebook.\n",
    "irrelevant_columns = ['Year', 'Venue   ', '# Annotations', 'Reviewed for agreement', 'Comments', 'URL', 'Kind of task', 'Note   ', \n",
    "                      'Unnamed: 13', 'Unnamed: 97', 'Unnamed: 98']"
   ]
  },
  {
   "cell_type": "code",
   "execution_count": 59,
   "id": "17567341-4ab6-472c-bf22-e1247069572a",
   "metadata": {
    "jupyter": {
     "source_hidden": true
    },
    "tags": []
   },
   "outputs": [],
   "source": [
    "!export PYTHONPATH=..\n",
    "import pandas as pd\n",
    "import numpy as np\n",
    "import plotly.express as px\n",
    "\n",
    "# get annotations\n",
    "annotations = pd.read_csv(annotations_fn, sep='\\t').dropna(how='all', axis='columns')  # drop empty colums\n",
    "# rename columns\n",
    "value_start_col = list(annotations.columns).index('Value Totals')  \n",
    "value_series = annotations.iloc[1, value_start_col:]\n",
    "value_cols = value_series.index.tolist()  # current col names\n",
    "values = value_series.values.tolist()  # correct col names\n",
    "annotations = annotations.rename(dict(zip(value_cols, values)), axis=1)  # fix col names\n",
    "annotations = annotations.rename({'Annotators 1 and 2': 'Annotator'}, axis=1)\n",
    "# drop irrelevant columns and value to drop \n",
    "def drop_if_exists(df, cols):\n",
    "    for col in cols:\n",
    "        if col in df.columns:\n",
    "            df = df.drop(columns=[col])\n",
    "    return df.reset_index(drop=True)\n",
    "annotations = drop_if_exists(annotations, irrelevant_columns + values_to_drop)  \n",
    "values = list(set(values) - set(values_to_drop))\n",
    "# drop empty rows\n",
    "annotations = annotations[annotations.Title.notna()].reset_index(drop=True)  # drop empty rows\n",
    "annotations = annotations[annotations.Complete.notna()].reset_index(drop=True)  # drop not done rows\n",
    "# switch from counts to bools\n",
    "for value in values:  \n",
    "    annotations[value] = annotations[value].fillna(0).apply(lambda count: int(bool(int(count))))  # from str to count to boolean existance flag\n",
    "# apply tree\n",
    "def has_any_values(row, vals):\n",
    "    real_vals = filter(lambda val: val in row.index, vals)\n",
    "    return row[real_vals].any()\n",
    "for value, subvalues in value_to_subvalues.items():\n",
    "    annotations[value] = annotations.apply(lambda row: int(has_any_values(row, [value]+subvalues)), axis=1)\n",
    "    annotations = annotations.drop(subvalues, axis=1)\n",
    "    values = list(set([value]+values) - set(subvalues))\n",
    "papers = list(annotations.Title.unique())\n",
    "percents = [len(annotations[annotations[value]==1].Title.unique())*100/len(papers) for value in values]\n",
    "annotations['Negative potential?'] = annotations['Negative potential?'].fillna(0).apply(int)\n",
    "annotations['Justification score'] = annotations['Justification score'].apply(lambda i: max(int(i),1) - 1)  # we deleted one category\n",
    "# get annotations that were doubly annotated (by two annotators)\n",
    "for title in annotations.Title.unique():\n",
    "    n_raters = len(annotations[annotations.Title == title])\n",
    "    annotations.loc[annotations.Title == title, '# Annotations'] = n_raters\n",
    "pairs_annotations = annotations.copy()[annotations['# Annotations'] == 2.0].drop(['# Annotations'], axis=1).reset_index(drop=True)\n",
    "pairs_papers = list(pairs_annotations.Title.unique())\n",
    "pairs_percents = [len(pairs_annotations[pairs_annotations[value]==1].Title.unique())*100/len(papers) for value in values]"
   ]
  },
  {
   "cell_type": "markdown",
   "id": "76eb2bb2-b50c-4efa-b3ff-5195841d6a10",
   "metadata": {},
   "source": [
    "## Analyze"
   ]
  },
  {
   "cell_type": "code",
   "execution_count": 60,
   "id": "4b6b0fbb-1472-4655-a502-8cb80f5aff95",
   "metadata": {
    "tags": []
   },
   "outputs": [
    {
     "data": {
      "application/vnd.plotly.v1+json": {
       "config": {
        "plotlyServerURL": "https://plot.ly"
       },
       "data": [
        {
         "alignmentgroup": "True",
         "hovertemplate": "x=%{x}<br>y=%{y}<extra></extra>",
         "legendgroup": "",
         "marker": {
          "color": "#636efa",
          "pattern": {
           "shape": ""
          }
         },
         "name": "",
         "offsetgroup": "",
         "orientation": "h",
         "showlegend": false,
         "textposition": "auto",
         "type": "bar",
         "x": [
          0,
          0,
          0,
          1,
          1,
          1,
          1,
          1,
          2,
          2,
          2,
          2,
          3,
          3,
          4,
          5,
          6,
          7,
          7,
          8,
          8,
          8,
          9,
          11,
          11,
          12,
          12,
          12,
          13,
          13,
          15,
          15,
          16,
          17,
          17,
          19,
          24,
          25,
          28,
          30,
          33,
          33,
          34,
          35,
          36,
          37,
          38,
          42,
          42,
          43,
          46,
          46,
          53,
          54,
          56,
          57,
          77,
          84,
          85,
          88,
          89,
          96
         ],
         "xaxis": "x",
         "y": [
          "Respect for Persons",
          "Critiqability",
          "Autonomy (power to decide)",
          "Collective influence",
          "Respect for Law and public interest",
          "Justice",
          "Transparent (to users)",
          "Fairness",
          "Not socially biased",
          "User influence",
          "Non-maleficence",
          "Explicability",
          "Privacy",
          "Reproducibility",
          "Principled",
          "Critique",
          "Deferral to humans",
          "Concreteness",
          "Controllability (of model owner)",
          "Realistic world model",
          "Learning from humans",
          "Security",
          "Human-like mechanism",
          "Progress",
          "Automatic",
          "Realistic output",
          "Interpretable (to users)",
          "Easy to work with",
          "Easy to implement",
          "Beneficence",
          "Requires few resources",
          "Preciseness",
          "Exactness",
          "Promising",
          "Practical",
          "Parallelizability / distributed",
          "Facilitating use (e.g. sharing code)",
          "Useful",
          "Improvement",
          "Scales up",
          "Generality",
          "Successful",
          "Qualitative evidence (e.g. examples)",
          "Robustness",
          "Effectiveness",
          "Approximation",
          "Used in practice/Popular",
          "Unifying ideas or integrating components",
          "Scientific methodology",
          "Large scale",
          "Theoretical guarantees",
          "Identifying limitations",
          "Simplicity",
          "Formal description/analysis",
          "Applies to real world",
          "Understanding (for researchers)",
          "Novelty",
          "Efficiency",
          "Quantitative evidence (e.g. experiments)",
          "Building on past work",
          "Generalization",
          "Performance"
         ],
         "yaxis": "y"
        }
       ],
       "layout": {
        "barmode": "relative",
        "height": 900,
        "legend": {
         "tracegroupgap": 0
        },
        "margin": {
         "t": 60
        },
        "template": {
         "data": {
          "bar": [
           {
            "error_x": {
             "color": "#2a3f5f"
            },
            "error_y": {
             "color": "#2a3f5f"
            },
            "marker": {
             "line": {
              "color": "#E5ECF6",
              "width": 0.5
             },
             "pattern": {
              "fillmode": "overlay",
              "size": 10,
              "solidity": 0.2
             }
            },
            "type": "bar"
           }
          ],
          "barpolar": [
           {
            "marker": {
             "line": {
              "color": "#E5ECF6",
              "width": 0.5
             },
             "pattern": {
              "fillmode": "overlay",
              "size": 10,
              "solidity": 0.2
             }
            },
            "type": "barpolar"
           }
          ],
          "carpet": [
           {
            "aaxis": {
             "endlinecolor": "#2a3f5f",
             "gridcolor": "white",
             "linecolor": "white",
             "minorgridcolor": "white",
             "startlinecolor": "#2a3f5f"
            },
            "baxis": {
             "endlinecolor": "#2a3f5f",
             "gridcolor": "white",
             "linecolor": "white",
             "minorgridcolor": "white",
             "startlinecolor": "#2a3f5f"
            },
            "type": "carpet"
           }
          ],
          "choropleth": [
           {
            "colorbar": {
             "outlinewidth": 0,
             "ticks": ""
            },
            "type": "choropleth"
           }
          ],
          "contour": [
           {
            "colorbar": {
             "outlinewidth": 0,
             "ticks": ""
            },
            "colorscale": [
             [
              0,
              "#0d0887"
             ],
             [
              0.1111111111111111,
              "#46039f"
             ],
             [
              0.2222222222222222,
              "#7201a8"
             ],
             [
              0.3333333333333333,
              "#9c179e"
             ],
             [
              0.4444444444444444,
              "#bd3786"
             ],
             [
              0.5555555555555556,
              "#d8576b"
             ],
             [
              0.6666666666666666,
              "#ed7953"
             ],
             [
              0.7777777777777778,
              "#fb9f3a"
             ],
             [
              0.8888888888888888,
              "#fdca26"
             ],
             [
              1,
              "#f0f921"
             ]
            ],
            "type": "contour"
           }
          ],
          "contourcarpet": [
           {
            "colorbar": {
             "outlinewidth": 0,
             "ticks": ""
            },
            "type": "contourcarpet"
           }
          ],
          "heatmap": [
           {
            "colorbar": {
             "outlinewidth": 0,
             "ticks": ""
            },
            "colorscale": [
             [
              0,
              "#0d0887"
             ],
             [
              0.1111111111111111,
              "#46039f"
             ],
             [
              0.2222222222222222,
              "#7201a8"
             ],
             [
              0.3333333333333333,
              "#9c179e"
             ],
             [
              0.4444444444444444,
              "#bd3786"
             ],
             [
              0.5555555555555556,
              "#d8576b"
             ],
             [
              0.6666666666666666,
              "#ed7953"
             ],
             [
              0.7777777777777778,
              "#fb9f3a"
             ],
             [
              0.8888888888888888,
              "#fdca26"
             ],
             [
              1,
              "#f0f921"
             ]
            ],
            "type": "heatmap"
           }
          ],
          "heatmapgl": [
           {
            "colorbar": {
             "outlinewidth": 0,
             "ticks": ""
            },
            "colorscale": [
             [
              0,
              "#0d0887"
             ],
             [
              0.1111111111111111,
              "#46039f"
             ],
             [
              0.2222222222222222,
              "#7201a8"
             ],
             [
              0.3333333333333333,
              "#9c179e"
             ],
             [
              0.4444444444444444,
              "#bd3786"
             ],
             [
              0.5555555555555556,
              "#d8576b"
             ],
             [
              0.6666666666666666,
              "#ed7953"
             ],
             [
              0.7777777777777778,
              "#fb9f3a"
             ],
             [
              0.8888888888888888,
              "#fdca26"
             ],
             [
              1,
              "#f0f921"
             ]
            ],
            "type": "heatmapgl"
           }
          ],
          "histogram": [
           {
            "marker": {
             "pattern": {
              "fillmode": "overlay",
              "size": 10,
              "solidity": 0.2
             }
            },
            "type": "histogram"
           }
          ],
          "histogram2d": [
           {
            "colorbar": {
             "outlinewidth": 0,
             "ticks": ""
            },
            "colorscale": [
             [
              0,
              "#0d0887"
             ],
             [
              0.1111111111111111,
              "#46039f"
             ],
             [
              0.2222222222222222,
              "#7201a8"
             ],
             [
              0.3333333333333333,
              "#9c179e"
             ],
             [
              0.4444444444444444,
              "#bd3786"
             ],
             [
              0.5555555555555556,
              "#d8576b"
             ],
             [
              0.6666666666666666,
              "#ed7953"
             ],
             [
              0.7777777777777778,
              "#fb9f3a"
             ],
             [
              0.8888888888888888,
              "#fdca26"
             ],
             [
              1,
              "#f0f921"
             ]
            ],
            "type": "histogram2d"
           }
          ],
          "histogram2dcontour": [
           {
            "colorbar": {
             "outlinewidth": 0,
             "ticks": ""
            },
            "colorscale": [
             [
              0,
              "#0d0887"
             ],
             [
              0.1111111111111111,
              "#46039f"
             ],
             [
              0.2222222222222222,
              "#7201a8"
             ],
             [
              0.3333333333333333,
              "#9c179e"
             ],
             [
              0.4444444444444444,
              "#bd3786"
             ],
             [
              0.5555555555555556,
              "#d8576b"
             ],
             [
              0.6666666666666666,
              "#ed7953"
             ],
             [
              0.7777777777777778,
              "#fb9f3a"
             ],
             [
              0.8888888888888888,
              "#fdca26"
             ],
             [
              1,
              "#f0f921"
             ]
            ],
            "type": "histogram2dcontour"
           }
          ],
          "mesh3d": [
           {
            "colorbar": {
             "outlinewidth": 0,
             "ticks": ""
            },
            "type": "mesh3d"
           }
          ],
          "parcoords": [
           {
            "line": {
             "colorbar": {
              "outlinewidth": 0,
              "ticks": ""
             }
            },
            "type": "parcoords"
           }
          ],
          "pie": [
           {
            "automargin": true,
            "type": "pie"
           }
          ],
          "scatter": [
           {
            "marker": {
             "colorbar": {
              "outlinewidth": 0,
              "ticks": ""
             }
            },
            "type": "scatter"
           }
          ],
          "scatter3d": [
           {
            "line": {
             "colorbar": {
              "outlinewidth": 0,
              "ticks": ""
             }
            },
            "marker": {
             "colorbar": {
              "outlinewidth": 0,
              "ticks": ""
             }
            },
            "type": "scatter3d"
           }
          ],
          "scattercarpet": [
           {
            "marker": {
             "colorbar": {
              "outlinewidth": 0,
              "ticks": ""
             }
            },
            "type": "scattercarpet"
           }
          ],
          "scattergeo": [
           {
            "marker": {
             "colorbar": {
              "outlinewidth": 0,
              "ticks": ""
             }
            },
            "type": "scattergeo"
           }
          ],
          "scattergl": [
           {
            "marker": {
             "colorbar": {
              "outlinewidth": 0,
              "ticks": ""
             }
            },
            "type": "scattergl"
           }
          ],
          "scattermapbox": [
           {
            "marker": {
             "colorbar": {
              "outlinewidth": 0,
              "ticks": ""
             }
            },
            "type": "scattermapbox"
           }
          ],
          "scatterpolar": [
           {
            "marker": {
             "colorbar": {
              "outlinewidth": 0,
              "ticks": ""
             }
            },
            "type": "scatterpolar"
           }
          ],
          "scatterpolargl": [
           {
            "marker": {
             "colorbar": {
              "outlinewidth": 0,
              "ticks": ""
             }
            },
            "type": "scatterpolargl"
           }
          ],
          "scatterternary": [
           {
            "marker": {
             "colorbar": {
              "outlinewidth": 0,
              "ticks": ""
             }
            },
            "type": "scatterternary"
           }
          ],
          "surface": [
           {
            "colorbar": {
             "outlinewidth": 0,
             "ticks": ""
            },
            "colorscale": [
             [
              0,
              "#0d0887"
             ],
             [
              0.1111111111111111,
              "#46039f"
             ],
             [
              0.2222222222222222,
              "#7201a8"
             ],
             [
              0.3333333333333333,
              "#9c179e"
             ],
             [
              0.4444444444444444,
              "#bd3786"
             ],
             [
              0.5555555555555556,
              "#d8576b"
             ],
             [
              0.6666666666666666,
              "#ed7953"
             ],
             [
              0.7777777777777778,
              "#fb9f3a"
             ],
             [
              0.8888888888888888,
              "#fdca26"
             ],
             [
              1,
              "#f0f921"
             ]
            ],
            "type": "surface"
           }
          ],
          "table": [
           {
            "cells": {
             "fill": {
              "color": "#EBF0F8"
             },
             "line": {
              "color": "white"
             }
            },
            "header": {
             "fill": {
              "color": "#C8D4E3"
             },
             "line": {
              "color": "white"
             }
            },
            "type": "table"
           }
          ]
         },
         "layout": {
          "annotationdefaults": {
           "arrowcolor": "#2a3f5f",
           "arrowhead": 0,
           "arrowwidth": 1
          },
          "autotypenumbers": "strict",
          "coloraxis": {
           "colorbar": {
            "outlinewidth": 0,
            "ticks": ""
           }
          },
          "colorscale": {
           "diverging": [
            [
             0,
             "#8e0152"
            ],
            [
             0.1,
             "#c51b7d"
            ],
            [
             0.2,
             "#de77ae"
            ],
            [
             0.3,
             "#f1b6da"
            ],
            [
             0.4,
             "#fde0ef"
            ],
            [
             0.5,
             "#f7f7f7"
            ],
            [
             0.6,
             "#e6f5d0"
            ],
            [
             0.7,
             "#b8e186"
            ],
            [
             0.8,
             "#7fbc41"
            ],
            [
             0.9,
             "#4d9221"
            ],
            [
             1,
             "#276419"
            ]
           ],
           "sequential": [
            [
             0,
             "#0d0887"
            ],
            [
             0.1111111111111111,
             "#46039f"
            ],
            [
             0.2222222222222222,
             "#7201a8"
            ],
            [
             0.3333333333333333,
             "#9c179e"
            ],
            [
             0.4444444444444444,
             "#bd3786"
            ],
            [
             0.5555555555555556,
             "#d8576b"
            ],
            [
             0.6666666666666666,
             "#ed7953"
            ],
            [
             0.7777777777777778,
             "#fb9f3a"
            ],
            [
             0.8888888888888888,
             "#fdca26"
            ],
            [
             1,
             "#f0f921"
            ]
           ],
           "sequentialminus": [
            [
             0,
             "#0d0887"
            ],
            [
             0.1111111111111111,
             "#46039f"
            ],
            [
             0.2222222222222222,
             "#7201a8"
            ],
            [
             0.3333333333333333,
             "#9c179e"
            ],
            [
             0.4444444444444444,
             "#bd3786"
            ],
            [
             0.5555555555555556,
             "#d8576b"
            ],
            [
             0.6666666666666666,
             "#ed7953"
            ],
            [
             0.7777777777777778,
             "#fb9f3a"
            ],
            [
             0.8888888888888888,
             "#fdca26"
            ],
            [
             1,
             "#f0f921"
            ]
           ]
          },
          "colorway": [
           "#636efa",
           "#EF553B",
           "#00cc96",
           "#ab63fa",
           "#FFA15A",
           "#19d3f3",
           "#FF6692",
           "#B6E880",
           "#FF97FF",
           "#FECB52"
          ],
          "font": {
           "color": "#2a3f5f"
          },
          "geo": {
           "bgcolor": "white",
           "lakecolor": "white",
           "landcolor": "#E5ECF6",
           "showlakes": true,
           "showland": true,
           "subunitcolor": "white"
          },
          "hoverlabel": {
           "align": "left"
          },
          "hovermode": "closest",
          "mapbox": {
           "style": "light"
          },
          "paper_bgcolor": "white",
          "plot_bgcolor": "#E5ECF6",
          "polar": {
           "angularaxis": {
            "gridcolor": "white",
            "linecolor": "white",
            "ticks": ""
           },
           "bgcolor": "#E5ECF6",
           "radialaxis": {
            "gridcolor": "white",
            "linecolor": "white",
            "ticks": ""
           }
          },
          "scene": {
           "xaxis": {
            "backgroundcolor": "#E5ECF6",
            "gridcolor": "white",
            "gridwidth": 2,
            "linecolor": "white",
            "showbackground": true,
            "ticks": "",
            "zerolinecolor": "white"
           },
           "yaxis": {
            "backgroundcolor": "#E5ECF6",
            "gridcolor": "white",
            "gridwidth": 2,
            "linecolor": "white",
            "showbackground": true,
            "ticks": "",
            "zerolinecolor": "white"
           },
           "zaxis": {
            "backgroundcolor": "#E5ECF6",
            "gridcolor": "white",
            "gridwidth": 2,
            "linecolor": "white",
            "showbackground": true,
            "ticks": "",
            "zerolinecolor": "white"
           }
          },
          "shapedefaults": {
           "line": {
            "color": "#2a3f5f"
           }
          },
          "ternary": {
           "aaxis": {
            "gridcolor": "white",
            "linecolor": "white",
            "ticks": ""
           },
           "baxis": {
            "gridcolor": "white",
            "linecolor": "white",
            "ticks": ""
           },
           "bgcolor": "#E5ECF6",
           "caxis": {
            "gridcolor": "white",
            "linecolor": "white",
            "ticks": ""
           }
          },
          "title": {
           "x": 0.05
          },
          "xaxis": {
           "automargin": true,
           "gridcolor": "white",
           "linecolor": "white",
           "ticks": "",
           "title": {
            "standoff": 15
           },
           "zerolinecolor": "white",
           "zerolinewidth": 2
          },
          "yaxis": {
           "automargin": true,
           "gridcolor": "white",
           "linecolor": "white",
           "ticks": "",
           "title": {
            "standoff": 15
           },
           "zerolinecolor": "white",
           "zerolinewidth": 2
          }
         }
        },
        "width": 600,
        "xaxis": {
         "anchor": "y",
         "autorange": true,
         "domain": [
          0,
          1
         ],
         "range": [
          0,
          101.05263157894737
         ],
         "title": {
          "text": "x"
         },
         "type": "linear"
        },
        "yaxis": {
         "anchor": "x",
         "autorange": true,
         "domain": [
          0,
          1
         ],
         "range": [
          -0.5,
          61.5
         ],
         "tickvals": [
          "Respect for Persons",
          "Critiqability",
          "Autonomy (power to decide)",
          "Collective influence",
          "Respect for Law and public interest",
          "Justice",
          "Transparent (to users)",
          "Fairness",
          "Not socially biased",
          "User influence",
          "Non-maleficence",
          "Explicability",
          "Privacy",
          "Reproducibility",
          "Principled",
          "Critique",
          "Deferral to humans",
          "Concreteness",
          "Controllability (of model owner)",
          "Realistic world model",
          "Learning from humans",
          "Security",
          "Human-like mechanism",
          "Progress",
          "Automatic",
          "Realistic output",
          "Interpretable (to users)",
          "Easy to work with",
          "Easy to implement",
          "Beneficence",
          "Requires few resources",
          "Preciseness",
          "Exactness",
          "Promising",
          "Practical",
          "Parallelizability / distributed",
          "Facilitating use (e.g. sharing code)",
          "Useful",
          "Improvement",
          "Scales up",
          "Generality",
          "Successful",
          "Qualitative evidence (e.g. examples)",
          "Robustness",
          "Effectiveness",
          "Approximation",
          "Used in practice/Popular",
          "Unifying ideas or integrating components",
          "Scientific methodology",
          "Large scale",
          "Theoretical guarantees",
          "Identifying limitations",
          "Simplicity",
          "Formal description/analysis",
          "Applies to real world",
          "Understanding (for researchers)",
          "Novelty",
          "Efficiency",
          "Quantitative evidence (e.g. experiments)",
          "Building on past work",
          "Generalization",
          "Performance"
         ],
         "title": {
          "text": "y"
         },
         "type": "category"
        }
       }
      },
      "image/png": "[encoded data removed]",
      "text/html": [
       "<div>                            <div id=\"3f4f2580-51a0-49f9-b37b-26d1d9eec0d0\" class=\"plotly-graph-div\" style=\"height:900px; width:600px;\"></div>            <script type=\"text/javascript\">                require([\"plotly\"], function(Plotly) {                    window.PLOTLYENV=window.PLOTLYENV || {};                                    if (document.getElementById(\"3f4f2580-51a0-49f9-b37b-26d1d9eec0d0\")) {                    Plotly.newPlot(                        \"3f4f2580-51a0-49f9-b37b-26d1d9eec0d0\",                        [{\"alignmentgroup\":\"True\",\"hovertemplate\":\"x=%{x}<br>y=%{y}<extra></extra>\",\"legendgroup\":\"\",\"marker\":{\"color\":\"#636efa\",\"pattern\":{\"shape\":\"\"}},\"name\":\"\",\"offsetgroup\":\"\",\"orientation\":\"h\",\"showlegend\":false,\"textposition\":\"auto\",\"x\":[0.0,0.0,0.0,1.0,1.0,1.0,1.0,1.0,2.0,2.0,2.0,2.0,3.0,3.0,4.0,5.0,6.0,7.0,7.0,8.0,8.0,8.0,9.0,11.0,11.0,12.0,12.0,12.0,13.0,13.0,15.0,15.0,16.0,17.0,17.0,19.0,24.0,25.0,28.0,30.0,33.0,33.0,34.0,35.0,36.0,37.0,38.0,42.0,42.0,43.0,46.0,46.0,53.0,54.0,56.0,57.0,77.0,84.0,85.0,88.0,89.0,96.0],\"xaxis\":\"x\",\"y\":[\"Respect for Persons\",\"Critiqability\",\"Autonomy (power to decide)\",\"Collective influence\",\"Respect for Law and public interest\",\"Justice\",\"Transparent (to users)\",\"Fairness\",\"Not socially biased\",\"User influence\",\"Non-maleficence\",\"Explicability\",\"Privacy\",\"Reproducibility\",\"Principled\",\"Critique\",\"Deferral to humans\",\"Concreteness\",\"Controllability (of model owner)\",\"Realistic world model\",\"Learning from humans\",\"Security\",\"Human-like mechanism\",\"Progress\",\"Automatic\",\"Realistic output\",\"Interpretable (to users)\",\"Easy to work with\",\"Easy to implement\",\"Beneficence\",\"Requires few resources\",\"Preciseness\",\"Exactness\",\"Promising\",\"Practical\",\"Parallelizability / distributed\",\"Facilitating use (e.g. sharing code)\",\"Useful\",\"Improvement\",\"Scales up\",\"Generality\",\"Successful\",\"Qualitative evidence (e.g. examples)\",\"Robustness\",\"Effectiveness\",\"Approximation\",\"Used in practice/Popular\",\"Unifying ideas or integrating components\",\"Scientific methodology\",\"Large scale\",\"Theoretical guarantees\",\"Identifying limitations\",\"Simplicity\",\"Formal description/analysis\",\"Applies to real world\",\"Understanding (for researchers)\",\"Novelty\",\"Efficiency\",\"Quantitative evidence (e.g. experiments)\",\"Building on past work\",\"Generalization\",\"Performance\"],\"yaxis\":\"y\",\"type\":\"bar\"}],                        {\"template\":{\"data\":{\"bar\":[{\"error_x\":{\"color\":\"#2a3f5f\"},\"error_y\":{\"color\":\"#2a3f5f\"},\"marker\":{\"line\":{\"color\":\"#E5ECF6\",\"width\":0.5},\"pattern\":{\"fillmode\":\"overlay\",\"size\":10,\"solidity\":0.2}},\"type\":\"bar\"}],\"barpolar\":[{\"marker\":{\"line\":{\"color\":\"#E5ECF6\",\"width\":0.5},\"pattern\":{\"fillmode\":\"overlay\",\"size\":10,\"solidity\":0.2}},\"type\":\"barpolar\"}],\"carpet\":[{\"aaxis\":{\"endlinecolor\":\"#2a3f5f\",\"gridcolor\":\"white\",\"linecolor\":\"white\",\"minorgridcolor\":\"white\",\"startlinecolor\":\"#2a3f5f\"},\"baxis\":{\"endlinecolor\":\"#2a3f5f\",\"gridcolor\":\"white\",\"linecolor\":\"white\",\"minorgridcolor\":\"white\",\"startlinecolor\":\"#2a3f5f\"},\"type\":\"carpet\"}],\"choropleth\":[{\"colorbar\":{\"outlinewidth\":0,\"ticks\":\"\"},\"type\":\"choropleth\"}],\"contour\":[{\"colorbar\":{\"outlinewidth\":0,\"ticks\":\"\"},\"colorscale\":[[0.0,\"#0d0887\"],[0.1111111111111111,\"#46039f\"],[0.2222222222222222,\"#7201a8\"],[0.3333333333333333,\"#9c179e\"],[0.4444444444444444,\"#bd3786\"],[0.5555555555555556,\"#d8576b\"],[0.6666666666666666,\"#ed7953\"],[0.7777777777777778,\"#fb9f3a\"],[0.8888888888888888,\"#fdca26\"],[1.0,\"#f0f921\"]],\"type\":\"contour\"}],\"contourcarpet\":[{\"colorbar\":{\"outlinewidth\":0,\"ticks\":\"\"},\"type\":\"contourcarpet\"}],\"heatmap\":[{\"colorbar\":{\"outlinewidth\":0,\"ticks\":\"\"},\"colorscale\":[[0.0,\"#0d0887\"],[0.1111111111111111,\"#46039f\"],[0.2222222222222222,\"#7201a8\"],[0.3333333333333333,\"#9c179e\"],[0.4444444444444444,\"#bd3786\"],[0.5555555555555556,\"#d8576b\"],[0.6666666666666666,\"#ed7953\"],[0.7777777777777778,\"#fb9f3a\"],[0.8888888888888888,\"#fdca26\"],[1.0,\"#f0f921\"]],\"type\":\"heatmap\"}],\"heatmapgl\":[{\"colorbar\":{\"outlinewidth\":0,\"ticks\":\"\"},\"colorscale\":[[0.0,\"#0d0887\"],[0.1111111111111111,\"#46039f\"],[0.2222222222222222,\"#7201a8\"],[0.3333333333333333,\"#9c179e\"],[0.4444444444444444,\"#bd3786\"],[0.5555555555555556,\"#d8576b\"],[0.6666666666666666,\"#ed7953\"],[0.7777777777777778,\"#fb9f3a\"],[0.8888888888888888,\"#fdca26\"],[1.0,\"#f0f921\"]],\"type\":\"heatmapgl\"}],\"histogram\":[{\"marker\":{\"pattern\":{\"fillmode\":\"overlay\",\"size\":10,\"solidity\":0.2}},\"type\":\"histogram\"}],\"histogram2d\":[{\"colorbar\":{\"outlinewidth\":0,\"ticks\":\"\"},\"colorscale\":[[0.0,\"#0d0887\"],[0.1111111111111111,\"#46039f\"],[0.2222222222222222,\"#7201a8\"],[0.3333333333333333,\"#9c179e\"],[0.4444444444444444,\"#bd3786\"],[0.5555555555555556,\"#d8576b\"],[0.6666666666666666,\"#ed7953\"],[0.7777777777777778,\"#fb9f3a\"],[0.8888888888888888,\"#fdca26\"],[1.0,\"#f0f921\"]],\"type\":\"histogram2d\"}],\"histogram2dcontour\":[{\"colorbar\":{\"outlinewidth\":0,\"ticks\":\"\"},\"colorscale\":[[0.0,\"#0d0887\"],[0.1111111111111111,\"#46039f\"],[0.2222222222222222,\"#7201a8\"],[0.3333333333333333,\"#9c179e\"],[0.4444444444444444,\"#bd3786\"],[0.5555555555555556,\"#d8576b\"],[0.6666666666666666,\"#ed7953\"],[0.7777777777777778,\"#fb9f3a\"],[0.8888888888888888,\"#fdca26\"],[1.0,\"#f0f921\"]],\"type\":\"histogram2dcontour\"}],\"mesh3d\":[{\"colorbar\":{\"outlinewidth\":0,\"ticks\":\"\"},\"type\":\"mesh3d\"}],\"parcoords\":[{\"line\":{\"colorbar\":{\"outlinewidth\":0,\"ticks\":\"\"}},\"type\":\"parcoords\"}],\"pie\":[{\"automargin\":true,\"type\":\"pie\"}],\"scatter\":[{\"marker\":{\"colorbar\":{\"outlinewidth\":0,\"ticks\":\"\"}},\"type\":\"scatter\"}],\"scatter3d\":[{\"line\":{\"colorbar\":{\"outlinewidth\":0,\"ticks\":\"\"}},\"marker\":{\"colorbar\":{\"outlinewidth\":0,\"ticks\":\"\"}},\"type\":\"scatter3d\"}],\"scattercarpet\":[{\"marker\":{\"colorbar\":{\"outlinewidth\":0,\"ticks\":\"\"}},\"type\":\"scattercarpet\"}],\"scattergeo\":[{\"marker\":{\"colorbar\":{\"outlinewidth\":0,\"ticks\":\"\"}},\"type\":\"scattergeo\"}],\"scattergl\":[{\"marker\":{\"colorbar\":{\"outlinewidth\":0,\"ticks\":\"\"}},\"type\":\"scattergl\"}],\"scattermapbox\":[{\"marker\":{\"colorbar\":{\"outlinewidth\":0,\"ticks\":\"\"}},\"type\":\"scattermapbox\"}],\"scatterpolar\":[{\"marker\":{\"colorbar\":{\"outlinewidth\":0,\"ticks\":\"\"}},\"type\":\"scatterpolar\"}],\"scatterpolargl\":[{\"marker\":{\"colorbar\":{\"outlinewidth\":0,\"ticks\":\"\"}},\"type\":\"scatterpolargl\"}],\"scatterternary\":[{\"marker\":{\"colorbar\":{\"outlinewidth\":0,\"ticks\":\"\"}},\"type\":\"scatterternary\"}],\"surface\":[{\"colorbar\":{\"outlinewidth\":0,\"ticks\":\"\"},\"colorscale\":[[0.0,\"#0d0887\"],[0.1111111111111111,\"#46039f\"],[0.2222222222222222,\"#7201a8\"],[0.3333333333333333,\"#9c179e\"],[0.4444444444444444,\"#bd3786\"],[0.5555555555555556,\"#d8576b\"],[0.6666666666666666,\"#ed7953\"],[0.7777777777777778,\"#fb9f3a\"],[0.8888888888888888,\"#fdca26\"],[1.0,\"#f0f921\"]],\"type\":\"surface\"}],\"table\":[{\"cells\":{\"fill\":{\"color\":\"#EBF0F8\"},\"line\":{\"color\":\"white\"}},\"header\":{\"fill\":{\"color\":\"#C8D4E3\"},\"line\":{\"color\":\"white\"}},\"type\":\"table\"}]},\"layout\":{\"annotationdefaults\":{\"arrowcolor\":\"#2a3f5f\",\"arrowhead\":0,\"arrowwidth\":1},\"autotypenumbers\":\"strict\",\"coloraxis\":{\"colorbar\":{\"outlinewidth\":0,\"ticks\":\"\"}},\"colorscale\":{\"diverging\":[[0,\"#8e0152\"],[0.1,\"#c51b7d\"],[0.2,\"#de77ae\"],[0.3,\"#f1b6da\"],[0.4,\"#fde0ef\"],[0.5,\"#f7f7f7\"],[0.6,\"#e6f5d0\"],[0.7,\"#b8e186\"],[0.8,\"#7fbc41\"],[0.9,\"#4d9221\"],[1,\"#276419\"]],\"sequential\":[[0.0,\"#0d0887\"],[0.1111111111111111,\"#46039f\"],[0.2222222222222222,\"#7201a8\"],[0.3333333333333333,\"#9c179e\"],[0.4444444444444444,\"#bd3786\"],[0.5555555555555556,\"#d8576b\"],[0.6666666666666666,\"#ed7953\"],[0.7777777777777778,\"#fb9f3a\"],[0.8888888888888888,\"#fdca26\"],[1.0,\"#f0f921\"]],\"sequentialminus\":[[0.0,\"#0d0887\"],[0.1111111111111111,\"#46039f\"],[0.2222222222222222,\"#7201a8\"],[0.3333333333333333,\"#9c179e\"],[0.4444444444444444,\"#bd3786\"],[0.5555555555555556,\"#d8576b\"],[0.6666666666666666,\"#ed7953\"],[0.7777777777777778,\"#fb9f3a\"],[0.8888888888888888,\"#fdca26\"],[1.0,\"#f0f921\"]]},\"colorway\":[\"#636efa\",\"#EF553B\",\"#00cc96\",\"#ab63fa\",\"#FFA15A\",\"#19d3f3\",\"#FF6692\",\"#B6E880\",\"#FF97FF\",\"#FECB52\"],\"font\":{\"color\":\"#2a3f5f\"},\"geo\":{\"bgcolor\":\"white\",\"lakecolor\":\"white\",\"landcolor\":\"#E5ECF6\",\"showlakes\":true,\"showland\":true,\"subunitcolor\":\"white\"},\"hoverlabel\":{\"align\":\"left\"},\"hovermode\":\"closest\",\"mapbox\":{\"style\":\"light\"},\"paper_bgcolor\":\"white\",\"plot_bgcolor\":\"#E5ECF6\",\"polar\":{\"angularaxis\":{\"gridcolor\":\"white\",\"linecolor\":\"white\",\"ticks\":\"\"},\"bgcolor\":\"#E5ECF6\",\"radialaxis\":{\"gridcolor\":\"white\",\"linecolor\":\"white\",\"ticks\":\"\"}},\"scene\":{\"xaxis\":{\"backgroundcolor\":\"#E5ECF6\",\"gridcolor\":\"white\",\"gridwidth\":2,\"linecolor\":\"white\",\"showbackground\":true,\"ticks\":\"\",\"zerolinecolor\":\"white\"},\"yaxis\":{\"backgroundcolor\":\"#E5ECF6\",\"gridcolor\":\"white\",\"gridwidth\":2,\"linecolor\":\"white\",\"showbackground\":true,\"ticks\":\"\",\"zerolinecolor\":\"white\"},\"zaxis\":{\"backgroundcolor\":\"#E5ECF6\",\"gridcolor\":\"white\",\"gridwidth\":2,\"linecolor\":\"white\",\"showbackground\":true,\"ticks\":\"\",\"zerolinecolor\":\"white\"}},\"shapedefaults\":{\"line\":{\"color\":\"#2a3f5f\"}},\"ternary\":{\"aaxis\":{\"gridcolor\":\"white\",\"linecolor\":\"white\",\"ticks\":\"\"},\"baxis\":{\"gridcolor\":\"white\",\"linecolor\":\"white\",\"ticks\":\"\"},\"bgcolor\":\"#E5ECF6\",\"caxis\":{\"gridcolor\":\"white\",\"linecolor\":\"white\",\"ticks\":\"\"}},\"title\":{\"x\":0.05},\"xaxis\":{\"automargin\":true,\"gridcolor\":\"white\",\"linecolor\":\"white\",\"ticks\":\"\",\"title\":{\"standoff\":15},\"zerolinecolor\":\"white\",\"zerolinewidth\":2},\"yaxis\":{\"automargin\":true,\"gridcolor\":\"white\",\"linecolor\":\"white\",\"ticks\":\"\",\"title\":{\"standoff\":15},\"zerolinecolor\":\"white\",\"zerolinewidth\":2}}},\"xaxis\":{\"anchor\":\"y\",\"domain\":[0.0,1.0],\"title\":{\"text\":\"x\"}},\"yaxis\":{\"anchor\":\"x\",\"domain\":[0.0,1.0],\"title\":{\"text\":\"y\"},\"tickvals\":[\"Respect for Persons\",\"Critiqability\",\"Autonomy (power to decide)\",\"Collective influence\",\"Respect for Law and public interest\",\"Justice\",\"Transparent (to users)\",\"Fairness\",\"Not socially biased\",\"User influence\",\"Non-maleficence\",\"Explicability\",\"Privacy\",\"Reproducibility\",\"Principled\",\"Critique\",\"Deferral to humans\",\"Concreteness\",\"Controllability (of model owner)\",\"Realistic world model\",\"Learning from humans\",\"Security\",\"Human-like mechanism\",\"Progress\",\"Automatic\",\"Realistic output\",\"Interpretable (to users)\",\"Easy to work with\",\"Easy to implement\",\"Beneficence\",\"Requires few resources\",\"Preciseness\",\"Exactness\",\"Promising\",\"Practical\",\"Parallelizability / distributed\",\"Facilitating use (e.g. sharing code)\",\"Useful\",\"Improvement\",\"Scales up\",\"Generality\",\"Successful\",\"Qualitative evidence (e.g. examples)\",\"Robustness\",\"Effectiveness\",\"Approximation\",\"Used in practice/Popular\",\"Unifying ideas or integrating components\",\"Scientific methodology\",\"Large scale\",\"Theoretical guarantees\",\"Identifying limitations\",\"Simplicity\",\"Formal description/analysis\",\"Applies to real world\",\"Understanding (for researchers)\",\"Novelty\",\"Efficiency\",\"Quantitative evidence (e.g. experiments)\",\"Building on past work\",\"Generalization\",\"Performance\"]},\"legend\":{\"tracegroupgap\":0},\"margin\":{\"t\":60},\"barmode\":\"relative\",\"height\":900,\"width\":600},                        {\"responsive\": true}                    ).then(function(){\n",
       "                            \n",
       "var gd = document.getElementById('3f4f2580-51a0-49f9-b37b-26d1d9eec0d0');\n",
       "var x = new MutationObserver(function (mutations, observer) {{\n",
       "        var display = window.getComputedStyle(gd).display;\n",
       "        if (!display || display === 'none') {{\n",
       "            console.log([gd, 'removed!']);\n",
       "            Plotly.purge(gd);\n",
       "            observer.disconnect();\n",
       "        }}\n",
       "}});\n",
       "\n",
       "// Listen for the removal of the full notebook cells\n",
       "var notebookContainer = gd.closest('#notebook-container');\n",
       "if (notebookContainer) {{\n",
       "    x.observe(notebookContainer, {childList: true});\n",
       "}}\n",
       "\n",
       "// Listen for the clearing of the current output cell\n",
       "var outputEl = gd.closest('.output');\n",
       "if (outputEl) {{\n",
       "    x.observe(outputEl, {childList: true});\n",
       "}}\n",
       "\n",
       "                        })                };                });            </script>        </div>"
      ]
     },
     "metadata": {},
     "output_type": "display_data"
    }
   ],
   "source": [
    "sorted_vals, sorted_percents = zip(*sorted(zip(values, percents), key=lambda t: t[1], reverse=True))\n",
    "px.bar(y=sorted_vals[::-1], x=sorted_percents[::-1], orientation='h', width=600, height=900).update_layout(yaxis_tickvals=sorted_vals[::-1])"
   ]
  },
  {
   "cell_type": "markdown",
   "id": "410fb72b-558a-4ef7-97a9-fda59ebdcb3a",
   "metadata": {},
   "source": [
    "## IRR"
   ]
  },
  {
   "cell_type": "code",
   "execution_count": 62,
   "id": "e963a75a-d270-41c4-9628-6c216e2746a2",
   "metadata": {},
   "outputs": [
    {
     "name": "stdout",
     "output_type": "stream",
     "text": [
      "Agreement: 87.0%\n"
     ]
    }
   ],
   "source": [
    "# Agreement\n",
    "n_matches = 0\n",
    "for paper in pairs_papers:\n",
    "    pair = pairs_annotations[pairs_annotations.Title == paper][values]\n",
    "    n_matches += len(pair.sum()[pair.sum().isin([0,2])])\n",
    "accuracy = n_matches * 100 / (len(values) * len(pairs_papers))\n",
    "print(f'Agreement: {accuracy:0.1f}%')"
   ]
  },
  {
   "cell_type": "code",
   "execution_count": 61,
   "id": "e5ade98c-1df9-42a4-a3fb-4b35f47627df",
   "metadata": {},
   "outputs": [
    {
     "name": "stdout",
     "output_type": "stream",
     "text": [
      "Kendall's W: 0.804\n"
     ]
    }
   ],
   "source": [
    "# Kendall's W\n",
    "def value_counts_to_value_ranks(value_counts):\n",
    "    value_ranks = dict()\n",
    "    ties = []\n",
    "    tie = []\n",
    "    ordered_value_counts = sorted(value_counts, key=lambda value_count: value_count[1], reverse=True)\n",
    "    for i, value_count in enumerate(ordered_value_counts):\n",
    "        rank = i+1\n",
    "        value, count = value_count\n",
    "        next_value, next_count = ordered_value_counts[i+1] if (i < len(value_counts)-1) else (None, None)\n",
    "        if tie == [] and count != next_count:  # singleton\n",
    "            value_ranks[value] = rank\n",
    "        elif count == next_count:  # start or part of tie\n",
    "            tie.append((value, rank))\n",
    "        elif tie != [] and count != next_count:  # end of tie\n",
    "            tie.append((value, rank))\n",
    "            tie_values, tie_ranks = zip(*tie)\n",
    "            mean_rank = sum(tie_ranks)/len(tie_ranks)\n",
    "            for value in tie_values:\n",
    "                value_ranks[value] = mean_rank\n",
    "            ties.append(tie)\n",
    "            tie = []  # refresh\n",
    "    return value_ranks, ties\n",
    "\n",
    "def value_counts_to_value_ranks_simple(value_counts):\n",
    "    ordered_value_counts = sorted(value_counts, key=lambda value_count: value_count[1], reverse=True)\n",
    "    value_ranks = {value_count[0]:i+1 for i, value_count in enumerate(ordered_value_counts)}\n",
    "    return value_ranks, []\n",
    "\n",
    "annotators = annotations.Annotator.unique()\n",
    "m = len(annotators)\n",
    "k = len(values)\n",
    "annotator_rankings = dict()\n",
    "tie_correction = 0\n",
    "for annotator in annotators:\n",
    "    annotator_anns = annotations[annotations.Annotator == annotator]\n",
    "    value_counts = list(dict(annotator_anns[values].sum()).items())\n",
    "    value_ranks, ties = value_counts_to_value_ranks(value_counts)    \n",
    "    tie_correction += sum([(len(tie)**3 - len(tie)) for tie in ties])\n",
    "    annotator_rankings[annotator] = value_ranks\n",
    "value_total_ranks = dict()\n",
    "for value in values:\n",
    "    value_total_ranks[value] = sum([ranking[value] for ranking in annotator_rankings.values()])\n",
    "S_squared = sum([value_total_ranks[value]**2 for value in values])\n",
    "A = 12. * S_squared\n",
    "B = 3. * m**2 * k * (k+1)**2\n",
    "C = (m**2 * (k**3 - k)) - (m * tie_correction)\n",
    "W = (A - B)/C\n",
    "print(f\"Kendall's W: {W:.3}\")"
   ]
  }
 ],
 "metadata": {
  "kernelspec": {
   "display_name": "Python 3 (ipykernel)",
   "language": "python",
   "name": "python3"
  },
  "language_info": {
   "codemirror_mode": {
    "name": "ipython",
    "version": 3
   },
   "file_extension": ".py",
   "mimetype": "text/x-python",
   "name": "python",
   "nbconvert_exporter": "python",
   "pygments_lexer": "ipython3",
   "version": "3.9.6"
  }
 },
 "nbformat": 4,
 "nbformat_minor": 5
}
